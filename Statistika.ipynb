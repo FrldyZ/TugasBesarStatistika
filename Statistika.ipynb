{
  "nbformat": 4,
  "nbformat_minor": 0,
  "metadata": {
    "colab": {
      "provenance": []
    },
    "kernelspec": {
      "display_name": "Python 3",
      "name": "python3"
    }
  },
  "cells": [
    {
      "cell_type": "code",
      "metadata": {
        "id": "ve0dEo3GK9I6",
        "colab": {
          "base_uri": "https://localhost:8080/"
        },
        "outputId": "7c610988-239c-40aa-c66b-bc93a903939f"
      },
      "source": [
        "!pip install seaborn"
      ],
      "execution_count": null,
      "outputs": [
        {
          "output_type": "stream",
          "text": [
            "Requirement already satisfied: seaborn in /usr/local/lib/python3.6/dist-packages (0.11.0)\n",
            "Requirement already satisfied: numpy>=1.15 in /usr/local/lib/python3.6/dist-packages (from seaborn) (1.19.4)\n",
            "Requirement already satisfied: pandas>=0.23 in /usr/local/lib/python3.6/dist-packages (from seaborn) (1.1.5)\n",
            "Requirement already satisfied: scipy>=1.0 in /usr/local/lib/python3.6/dist-packages (from seaborn) (1.4.1)\n",
            "Requirement already satisfied: matplotlib>=2.2 in /usr/local/lib/python3.6/dist-packages (from seaborn) (3.2.2)\n",
            "Requirement already satisfied: python-dateutil>=2.7.3 in /usr/local/lib/python3.6/dist-packages (from pandas>=0.23->seaborn) (2.8.1)\n",
            "Requirement already satisfied: pytz>=2017.2 in /usr/local/lib/python3.6/dist-packages (from pandas>=0.23->seaborn) (2018.9)\n",
            "Requirement already satisfied: kiwisolver>=1.0.1 in /usr/local/lib/python3.6/dist-packages (from matplotlib>=2.2->seaborn) (1.3.1)\n",
            "Requirement already satisfied: pyparsing!=2.0.4,!=2.1.2,!=2.1.6,>=2.0.1 in /usr/local/lib/python3.6/dist-packages (from matplotlib>=2.2->seaborn) (2.4.7)\n",
            "Requirement already satisfied: cycler>=0.10 in /usr/local/lib/python3.6/dist-packages (from matplotlib>=2.2->seaborn) (0.10.0)\n",
            "Requirement already satisfied: six>=1.5 in /usr/local/lib/python3.6/dist-packages (from python-dateutil>=2.7.3->pandas>=0.23->seaborn) (1.15.0)\n"
          ],
          "name": "stdout"
        }
      ]
    },
    {
      "cell_type": "code",
      "metadata": {
        "colab": {
          "resources": {
            "http://localhost:8080/nbextensions/google.colab/files.js": {
              "data": "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",
              "ok": true,
              "headers": [
                [
                  "content-type",
                  "application/javascript"
                ]
              ],
              "status": 200,
              "status_text": ""
            }
          },
          "base_uri": "https://localhost:8080/",
          "height": 72
        },
        "id": "I0tOVE4vLLMH",
        "outputId": "50a6b9f0-4508-46c5-f11a-61f5b5ea9d0c"
      },
      "source": [
        "import pandas as pd\n",
        "import numpy as np\n",
        "import seaborn as sns\n",
        "import matplotlib.pyplot as plt\n",
        "%matplotlib inline\n",
        "from google.colab import files\n",
        "upload = files.upload()"
      ],
      "execution_count": null,
      "outputs": [
        {
          "output_type": "display_data",
          "data": {
            "text/html": [
              "\n",
              "     <input type=\"file\" id=\"files-7c257efa-4cff-4001-90c0-8f014b5e988b\" name=\"files[]\" multiple disabled\n",
              "        style=\"border:none\" />\n",
              "     <output id=\"result-7c257efa-4cff-4001-90c0-8f014b5e988b\">\n",
              "      Upload widget is only available when the cell has been executed in the\n",
              "      current browser session. Please rerun this cell to enable.\n",
              "      </output>\n",
              "      <script src=\"/nbextensions/google.colab/files.js\"></script> "
            ],
            "text/plain": [
              "<IPython.core.display.HTML object>"
            ]
          },
          "metadata": {
            "tags": []
          }
        },
        {
          "output_type": "stream",
          "text": [
            "Saving Data Tubes.csv to Data Tubes.csv\n"
          ],
          "name": "stdout"
        }
      ]
    },
    {
      "cell_type": "markdown",
      "metadata": {
        "id": "iS9nwoUhq6DS"
      },
      "source": []
    },
    {
      "cell_type": "code",
      "metadata": {
        "id": "yvVdZSXCMOJ2",
        "colab": {
          "base_uri": "https://localhost:8080/",
          "height": 609
        },
        "outputId": "3b530e2c-6600-4472-c364-e198371241fc"
      },
      "source": [
        "TUBES = pd.read_csv(\"Data Tubes.csv\")\n",
        "TUBES"
      ],
      "execution_count": null,
      "outputs": [
        {
          "output_type": "execute_result",
          "data": {
            "text/html": [
              "<div>\n",
              "<style scoped>\n",
              "    .dataframe tbody tr th:only-of-type {\n",
              "        vertical-align: middle;\n",
              "    }\n",
              "\n",
              "    .dataframe tbody tr th {\n",
              "        vertical-align: top;\n",
              "    }\n",
              "\n",
              "    .dataframe thead th {\n",
              "        text-align: right;\n",
              "    }\n",
              "</style>\n",
              "<table border=\"1\" class=\"dataframe\">\n",
              "  <thead>\n",
              "    <tr style=\"text-align: right;\">\n",
              "      <th></th>\n",
              "      <th>CLIENTNUAM</th>\n",
              "      <th>Attrition_Flag</th>\n",
              "      <th>Customer_Age</th>\n",
              "      <th>Gender</th>\n",
              "      <th>Dependent_count</th>\n",
              "      <th>Education_Level</th>\n",
              "      <th>Marital_Status</th>\n",
              "      <th>Income_Category</th>\n",
              "      <th>Card_Category</th>\n",
              "      <th>Months_on_book</th>\n",
              "      <th>Total_Relationship_Count</th>\n",
              "      <th>Months_Inactive_12_mon</th>\n",
              "      <th>Contacts_Count_12_mon</th>\n",
              "      <th>Credit_Limit</th>\n",
              "      <th>Total_Revolving_Bal</th>\n",
              "      <th>Avg_Open_To_Buy</th>\n",
              "      <th>Total_Amt_Chng_Q4_Q1</th>\n",
              "      <th>Total_Trans_Amt</th>\n",
              "      <th>Total_Trans_Ct</th>\n",
              "      <th>Total_Ct_Chng_Q4_Q1</th>\n",
              "      <th>Avg_Utilization_Ratio</th>\n",
              "      <th>Naive_Bayes_Classifier_Attrition_Flag_Card_Category_Contacts_Count_12_mon_Dependent_count_Education_Level_Months_Inactive_12_mon_1</th>\n",
              "      <th>Naive_Bayes_Classifier_Attrition_Flag_Card_Category_Contacts_Count_12_mon_Dependent_count_Education_Level_Months_Inactive_12_mon_2</th>\n",
              "    </tr>\n",
              "  </thead>\n",
              "  <tbody>\n",
              "    <tr>\n",
              "      <th>0</th>\n",
              "      <td>768805383</td>\n",
              "      <td>Existing Customer</td>\n",
              "      <td>45</td>\n",
              "      <td>M</td>\n",
              "      <td>3</td>\n",
              "      <td>High School</td>\n",
              "      <td>Married</td>\n",
              "      <td>$60K - $80K</td>\n",
              "      <td>Blue</td>\n",
              "      <td>39</td>\n",
              "      <td>5</td>\n",
              "      <td>1</td>\n",
              "      <td>3</td>\n",
              "      <td>12691.0</td>\n",
              "      <td>777</td>\n",
              "      <td>11914.0</td>\n",
              "      <td>1.335</td>\n",
              "      <td>1144</td>\n",
              "      <td>42</td>\n",
              "      <td>1.625</td>\n",
              "      <td>0.061</td>\n",
              "      <td>0.000093</td>\n",
              "      <td>0.99991</td>\n",
              "    </tr>\n",
              "    <tr>\n",
              "      <th>1</th>\n",
              "      <td>818770008</td>\n",
              "      <td>Existing Customer</td>\n",
              "      <td>49</td>\n",
              "      <td>F</td>\n",
              "      <td>5</td>\n",
              "      <td>Graduate</td>\n",
              "      <td>Single</td>\n",
              "      <td>Less than $40K</td>\n",
              "      <td>Blue</td>\n",
              "      <td>44</td>\n",
              "      <td>6</td>\n",
              "      <td>1</td>\n",
              "      <td>2</td>\n",
              "      <td>8256.0</td>\n",
              "      <td>864</td>\n",
              "      <td>7392.0</td>\n",
              "      <td>1.541</td>\n",
              "      <td>1291</td>\n",
              "      <td>33</td>\n",
              "      <td>3.714</td>\n",
              "      <td>0.105</td>\n",
              "      <td>0.000057</td>\n",
              "      <td>0.99994</td>\n",
              "    </tr>\n",
              "    <tr>\n",
              "      <th>2</th>\n",
              "      <td>713982108</td>\n",
              "      <td>Existing Customer</td>\n",
              "      <td>51</td>\n",
              "      <td>M</td>\n",
              "      <td>3</td>\n",
              "      <td>Graduate</td>\n",
              "      <td>Married</td>\n",
              "      <td>$80K - $120K</td>\n",
              "      <td>Blue</td>\n",
              "      <td>36</td>\n",
              "      <td>4</td>\n",
              "      <td>1</td>\n",
              "      <td>0</td>\n",
              "      <td>3418.0</td>\n",
              "      <td>0</td>\n",
              "      <td>3418.0</td>\n",
              "      <td>2.594</td>\n",
              "      <td>1887</td>\n",
              "      <td>20</td>\n",
              "      <td>2.333</td>\n",
              "      <td>0.000</td>\n",
              "      <td>0.000021</td>\n",
              "      <td>0.99998</td>\n",
              "    </tr>\n",
              "    <tr>\n",
              "      <th>3</th>\n",
              "      <td>769911858</td>\n",
              "      <td>Existing Customer</td>\n",
              "      <td>40</td>\n",
              "      <td>F</td>\n",
              "      <td>4</td>\n",
              "      <td>High School</td>\n",
              "      <td>Unknown</td>\n",
              "      <td>Less than $40K</td>\n",
              "      <td>Blue</td>\n",
              "      <td>34</td>\n",
              "      <td>3</td>\n",
              "      <td>4</td>\n",
              "      <td>1</td>\n",
              "      <td>3313.0</td>\n",
              "      <td>2517</td>\n",
              "      <td>796.0</td>\n",
              "      <td>1.405</td>\n",
              "      <td>1171</td>\n",
              "      <td>20</td>\n",
              "      <td>2.333</td>\n",
              "      <td>0.760</td>\n",
              "      <td>0.000134</td>\n",
              "      <td>0.99987</td>\n",
              "    </tr>\n",
              "    <tr>\n",
              "      <th>4</th>\n",
              "      <td>709106358</td>\n",
              "      <td>Existing Customer</td>\n",
              "      <td>40</td>\n",
              "      <td>M</td>\n",
              "      <td>3</td>\n",
              "      <td>Uneducated</td>\n",
              "      <td>Married</td>\n",
              "      <td>$60K - $80K</td>\n",
              "      <td>Blue</td>\n",
              "      <td>21</td>\n",
              "      <td>5</td>\n",
              "      <td>1</td>\n",
              "      <td>0</td>\n",
              "      <td>4716.0</td>\n",
              "      <td>0</td>\n",
              "      <td>4716.0</td>\n",
              "      <td>2.175</td>\n",
              "      <td>816</td>\n",
              "      <td>28</td>\n",
              "      <td>2.500</td>\n",
              "      <td>0.000</td>\n",
              "      <td>0.000022</td>\n",
              "      <td>0.99998</td>\n",
              "    </tr>\n",
              "    <tr>\n",
              "      <th>...</th>\n",
              "      <td>...</td>\n",
              "      <td>...</td>\n",
              "      <td>...</td>\n",
              "      <td>...</td>\n",
              "      <td>...</td>\n",
              "      <td>...</td>\n",
              "      <td>...</td>\n",
              "      <td>...</td>\n",
              "      <td>...</td>\n",
              "      <td>...</td>\n",
              "      <td>...</td>\n",
              "      <td>...</td>\n",
              "      <td>...</td>\n",
              "      <td>...</td>\n",
              "      <td>...</td>\n",
              "      <td>...</td>\n",
              "      <td>...</td>\n",
              "      <td>...</td>\n",
              "      <td>...</td>\n",
              "      <td>...</td>\n",
              "      <td>...</td>\n",
              "      <td>...</td>\n",
              "      <td>...</td>\n",
              "    </tr>\n",
              "    <tr>\n",
              "      <th>495</th>\n",
              "      <td>716920908</td>\n",
              "      <td>Existing Customer</td>\n",
              "      <td>52</td>\n",
              "      <td>M</td>\n",
              "      <td>4</td>\n",
              "      <td>High School</td>\n",
              "      <td>Married</td>\n",
              "      <td>$80K - $120K</td>\n",
              "      <td>Blue</td>\n",
              "      <td>42</td>\n",
              "      <td>6</td>\n",
              "      <td>1</td>\n",
              "      <td>0</td>\n",
              "      <td>5738.0</td>\n",
              "      <td>1112</td>\n",
              "      <td>4626.0</td>\n",
              "      <td>1.519</td>\n",
              "      <td>1922</td>\n",
              "      <td>48</td>\n",
              "      <td>0.655</td>\n",
              "      <td>0.194</td>\n",
              "      <td>0.000021</td>\n",
              "      <td>0.99998</td>\n",
              "    </tr>\n",
              "    <tr>\n",
              "      <th>496</th>\n",
              "      <td>708095133</td>\n",
              "      <td>Existing Customer</td>\n",
              "      <td>43</td>\n",
              "      <td>M</td>\n",
              "      <td>4</td>\n",
              "      <td>Unknown</td>\n",
              "      <td>Unknown</td>\n",
              "      <td>$120K +</td>\n",
              "      <td>Blue</td>\n",
              "      <td>34</td>\n",
              "      <td>5</td>\n",
              "      <td>2</td>\n",
              "      <td>2</td>\n",
              "      <td>33304.0</td>\n",
              "      <td>1833</td>\n",
              "      <td>31471.0</td>\n",
              "      <td>0.428</td>\n",
              "      <td>1448</td>\n",
              "      <td>29</td>\n",
              "      <td>0.381</td>\n",
              "      <td>0.055</td>\n",
              "      <td>0.000131</td>\n",
              "      <td>0.99987</td>\n",
              "    </tr>\n",
              "    <tr>\n",
              "      <th>497</th>\n",
              "      <td>711195558</td>\n",
              "      <td>Existing Customer</td>\n",
              "      <td>59</td>\n",
              "      <td>M</td>\n",
              "      <td>1</td>\n",
              "      <td>College</td>\n",
              "      <td>Single</td>\n",
              "      <td>$40K - $60K</td>\n",
              "      <td>Blue</td>\n",
              "      <td>48</td>\n",
              "      <td>6</td>\n",
              "      <td>3</td>\n",
              "      <td>3</td>\n",
              "      <td>7251.0</td>\n",
              "      <td>1603</td>\n",
              "      <td>5648.0</td>\n",
              "      <td>0.591</td>\n",
              "      <td>1300</td>\n",
              "      <td>36</td>\n",
              "      <td>0.800</td>\n",
              "      <td>0.221</td>\n",
              "      <td>0.000276</td>\n",
              "      <td>0.99972</td>\n",
              "    </tr>\n",
              "    <tr>\n",
              "      <th>498</th>\n",
              "      <td>772735758</td>\n",
              "      <td>Existing Customer</td>\n",
              "      <td>44</td>\n",
              "      <td>M</td>\n",
              "      <td>1</td>\n",
              "      <td>Unknown</td>\n",
              "      <td>Married</td>\n",
              "      <td>Unknown</td>\n",
              "      <td>Blue</td>\n",
              "      <td>34</td>\n",
              "      <td>6</td>\n",
              "      <td>2</td>\n",
              "      <td>0</td>\n",
              "      <td>2885.0</td>\n",
              "      <td>1895</td>\n",
              "      <td>990.0</td>\n",
              "      <td>0.387</td>\n",
              "      <td>1366</td>\n",
              "      <td>31</td>\n",
              "      <td>0.632</td>\n",
              "      <td>0.657</td>\n",
              "      <td>0.000043</td>\n",
              "      <td>0.99996</td>\n",
              "    </tr>\n",
              "    <tr>\n",
              "      <th>499</th>\n",
              "      <td>712024908</td>\n",
              "      <td>Existing Customer</td>\n",
              "      <td>56</td>\n",
              "      <td>F</td>\n",
              "      <td>1</td>\n",
              "      <td>College</td>\n",
              "      <td>Married</td>\n",
              "      <td>Less than $40K</td>\n",
              "      <td>Blue</td>\n",
              "      <td>36</td>\n",
              "      <td>6</td>\n",
              "      <td>2</td>\n",
              "      <td>3</td>\n",
              "      <td>2641.0</td>\n",
              "      <td>1257</td>\n",
              "      <td>1384.0</td>\n",
              "      <td>0.891</td>\n",
              "      <td>1439</td>\n",
              "      <td>39</td>\n",
              "      <td>1.053</td>\n",
              "      <td>0.476</td>\n",
              "      <td>0.000175</td>\n",
              "      <td>0.99983</td>\n",
              "    </tr>\n",
              "  </tbody>\n",
              "</table>\n",
              "<p>500 rows × 23 columns</p>\n",
              "</div>"
            ],
            "text/plain": [
              "     CLIENTNUAM  ... Naive_Bayes_Classifier_Attrition_Flag_Card_Category_Contacts_Count_12_mon_Dependent_count_Education_Level_Months_Inactive_12_mon_2\n",
              "0     768805383  ...                                            0.99991                                                                                \n",
              "1     818770008  ...                                            0.99994                                                                                \n",
              "2     713982108  ...                                            0.99998                                                                                \n",
              "3     769911858  ...                                            0.99987                                                                                \n",
              "4     709106358  ...                                            0.99998                                                                                \n",
              "..          ...  ...                                                ...                                                                                \n",
              "495   716920908  ...                                            0.99998                                                                                \n",
              "496   708095133  ...                                            0.99987                                                                                \n",
              "497   711195558  ...                                            0.99972                                                                                \n",
              "498   772735758  ...                                            0.99996                                                                                \n",
              "499   712024908  ...                                            0.99983                                                                                \n",
              "\n",
              "[500 rows x 23 columns]"
            ]
          },
          "metadata": {
            "tags": []
          },
          "execution_count": 3
        }
      ]
    },
    {
      "cell_type": "markdown",
      "metadata": {
        "id": "R5-dm36ASowa"
      },
      "source": [
        "**NILAI SUM**"
      ]
    },
    {
      "cell_type": "code",
      "metadata": {
        "id": "yX2EUk0TSxXj",
        "colab": {
          "base_uri": "https://localhost:8080/"
        },
        "outputId": "9608083b-074c-4e6a-efeb-912eb3fb7bac"
      },
      "source": [
        "Jumlah = TUBES.sum()\n",
        "\n",
        "print('JUMLAH DATA DARI MASING-MASING KOLOM')\n",
        "print('')\n",
        "print(Jumlah)"
      ],
      "execution_count": null,
      "outputs": [
        {
          "output_type": "stream",
          "text": [
            "JUMLAH DATA DARI MASING-MASING KOLOM\n",
            "\n",
            "CLIENTNUM                                                                                                                                                                 7485651619341\n",
            "Attrition_Flag                                                                                                                        Existing CustomerExisting CustomerExisting Cus...\n",
            "Customer_Age                                                                                                                                                                     469143\n",
            "Gender                                                                                                                                MFMFMMMMMMMMMMFMMMMFMFMFMFMMFMMMMFMFFFFFMMFMFM...\n",
            "Dependent_count                                                                                                                                                                   23760\n",
            "Education_Level                                                                                                                       High SchoolGraduateGraduateHigh SchoolUneducat...\n",
            "Marital_Status                                                                                                                        MarriedSingleMarriedUnknownMarriedMarriedMarri...\n",
            "Income_Category                                                                                                                       $60K - $80KLess than $40K$80K - $120KLess than...\n",
            "Card_Category                                                                                                                         BlueBlueBlueBlueBlueBlueGoldSilverBlueBlueBlue...\n",
            "Months_on_book                                                                                                                                                                   363847\n",
            "Total_Relationship_Count                                                                                                                                                          38610\n",
            "Months_Inactive_12_mon                                                                                                                                                            23709\n",
            "Contacts_Count_12_mon                                                                                                                                                             24865\n",
            "Credit_Limit                                                                                                                                                                8.74158e+07\n",
            "Total_Revolving_Bal                                                                                                                                                            11775818\n",
            "Avg_Open_To_Buy                                                                                                                                                               7.564e+07\n",
            "Total_Amt_Chng_Q4_Q1                                                                                                                                                            7695.92\n",
            "Total_Trans_Amt                                                                                                                                                                44600182\n",
            "Total_Trans_Ct                                                                                                                                                                   656824\n",
            "Total_Ct_Chng_Q4_Q1                                                                                                                                                             7212.68\n",
            "Avg_Utilization_Ratio                                                                                                                                                           2783.85\n",
            "Naive_Bayes_Classifier_Attrition_Flag_Card_Category_Contacts_Count_12_mon_Dependent_count_Education_Level_Months_Inactive_12_mon_1                                              1620.29\n",
            "Naive_Bayes_Classifier_Attrition_Flag_Card_Category_Contacts_Count_12_mon_Dependent_count_Education_Level_Months_Inactive_12_mon_2                                              8506.71\n",
            "dtype: object\n"
          ],
          "name": "stdout"
        }
      ]
    },
    {
      "cell_type": "code",
      "metadata": {
        "id": "4WaXPhJoaEPk",
        "colab": {
          "base_uri": "https://localhost:8080/",
          "height": 317
        },
        "outputId": "10400883-9be0-4918-efb8-844fcc70b4df"
      },
      "source": [
        "TUBES.describe()"
      ],
      "execution_count": null,
      "outputs": [
        {
          "output_type": "execute_result",
          "data": {
            "text/html": [
              "<div>\n",
              "<style scoped>\n",
              "    .dataframe tbody tr th:only-of-type {\n",
              "        vertical-align: middle;\n",
              "    }\n",
              "\n",
              "    .dataframe tbody tr th {\n",
              "        vertical-align: top;\n",
              "    }\n",
              "\n",
              "    .dataframe thead th {\n",
              "        text-align: right;\n",
              "    }\n",
              "</style>\n",
              "<table border=\"1\" class=\"dataframe\">\n",
              "  <thead>\n",
              "    <tr style=\"text-align: right;\">\n",
              "      <th></th>\n",
              "      <th>CLIENTNUM</th>\n",
              "      <th>Customer_Age</th>\n",
              "      <th>Dependent_count</th>\n",
              "      <th>Months_on_book</th>\n",
              "      <th>Total_Relationship_Count</th>\n",
              "      <th>Months_Inactive_12_mon</th>\n",
              "      <th>Contacts_Count_12_mon</th>\n",
              "      <th>Credit_Limit</th>\n",
              "      <th>Total_Revolving_Bal</th>\n",
              "      <th>Avg_Open_To_Buy</th>\n",
              "      <th>Total_Amt_Chng_Q4_Q1</th>\n",
              "      <th>Total_Trans_Amt</th>\n",
              "      <th>Total_Trans_Ct</th>\n",
              "      <th>Total_Ct_Chng_Q4_Q1</th>\n",
              "      <th>Avg_Utilization_Ratio</th>\n",
              "      <th>Naive_Bayes_Classifier_Attrition_Flag_Card_Category_Contacts_Count_12_mon_Dependent_count_Education_Level_Months_Inactive_12_mon_1</th>\n",
              "      <th>Naive_Bayes_Classifier_Attrition_Flag_Card_Category_Contacts_Count_12_mon_Dependent_count_Education_Level_Months_Inactive_12_mon_2</th>\n",
              "    </tr>\n",
              "  </thead>\n",
              "  <tbody>\n",
              "    <tr>\n",
              "      <th>count</th>\n",
              "      <td>1.012700e+04</td>\n",
              "      <td>10127.000000</td>\n",
              "      <td>10127.000000</td>\n",
              "      <td>10127.000000</td>\n",
              "      <td>10127.000000</td>\n",
              "      <td>10127.000000</td>\n",
              "      <td>10127.000000</td>\n",
              "      <td>10127.000000</td>\n",
              "      <td>10127.000000</td>\n",
              "      <td>10127.000000</td>\n",
              "      <td>10127.000000</td>\n",
              "      <td>10127.000000</td>\n",
              "      <td>10127.000000</td>\n",
              "      <td>10127.000000</td>\n",
              "      <td>10127.000000</td>\n",
              "      <td>10127.000000</td>\n",
              "      <td>10127.000000</td>\n",
              "    </tr>\n",
              "    <tr>\n",
              "      <th>mean</th>\n",
              "      <td>7.391776e+08</td>\n",
              "      <td>46.325960</td>\n",
              "      <td>2.346203</td>\n",
              "      <td>35.928409</td>\n",
              "      <td>3.812580</td>\n",
              "      <td>2.341167</td>\n",
              "      <td>2.455317</td>\n",
              "      <td>8631.953698</td>\n",
              "      <td>1162.814061</td>\n",
              "      <td>7469.139637</td>\n",
              "      <td>0.759941</td>\n",
              "      <td>4404.086304</td>\n",
              "      <td>64.858695</td>\n",
              "      <td>0.712222</td>\n",
              "      <td>0.274894</td>\n",
              "      <td>0.159997</td>\n",
              "      <td>0.840003</td>\n",
              "    </tr>\n",
              "    <tr>\n",
              "      <th>std</th>\n",
              "      <td>3.690378e+07</td>\n",
              "      <td>8.016814</td>\n",
              "      <td>1.298908</td>\n",
              "      <td>7.986416</td>\n",
              "      <td>1.554408</td>\n",
              "      <td>1.010622</td>\n",
              "      <td>1.106225</td>\n",
              "      <td>9088.776650</td>\n",
              "      <td>814.987335</td>\n",
              "      <td>9090.685324</td>\n",
              "      <td>0.219207</td>\n",
              "      <td>3397.129254</td>\n",
              "      <td>23.472570</td>\n",
              "      <td>0.238086</td>\n",
              "      <td>0.275691</td>\n",
              "      <td>0.365301</td>\n",
              "      <td>0.365301</td>\n",
              "    </tr>\n",
              "    <tr>\n",
              "      <th>min</th>\n",
              "      <td>7.080821e+08</td>\n",
              "      <td>26.000000</td>\n",
              "      <td>0.000000</td>\n",
              "      <td>13.000000</td>\n",
              "      <td>1.000000</td>\n",
              "      <td>0.000000</td>\n",
              "      <td>0.000000</td>\n",
              "      <td>1438.300000</td>\n",
              "      <td>0.000000</td>\n",
              "      <td>3.000000</td>\n",
              "      <td>0.000000</td>\n",
              "      <td>510.000000</td>\n",
              "      <td>10.000000</td>\n",
              "      <td>0.000000</td>\n",
              "      <td>0.000000</td>\n",
              "      <td>0.000008</td>\n",
              "      <td>0.000420</td>\n",
              "    </tr>\n",
              "    <tr>\n",
              "      <th>25%</th>\n",
              "      <td>7.130368e+08</td>\n",
              "      <td>41.000000</td>\n",
              "      <td>1.000000</td>\n",
              "      <td>31.000000</td>\n",
              "      <td>3.000000</td>\n",
              "      <td>2.000000</td>\n",
              "      <td>2.000000</td>\n",
              "      <td>2555.000000</td>\n",
              "      <td>359.000000</td>\n",
              "      <td>1324.500000</td>\n",
              "      <td>0.631000</td>\n",
              "      <td>2155.500000</td>\n",
              "      <td>45.000000</td>\n",
              "      <td>0.582000</td>\n",
              "      <td>0.023000</td>\n",
              "      <td>0.000099</td>\n",
              "      <td>0.999660</td>\n",
              "    </tr>\n",
              "    <tr>\n",
              "      <th>50%</th>\n",
              "      <td>7.179264e+08</td>\n",
              "      <td>46.000000</td>\n",
              "      <td>2.000000</td>\n",
              "      <td>36.000000</td>\n",
              "      <td>4.000000</td>\n",
              "      <td>2.000000</td>\n",
              "      <td>2.000000</td>\n",
              "      <td>4549.000000</td>\n",
              "      <td>1276.000000</td>\n",
              "      <td>3474.000000</td>\n",
              "      <td>0.736000</td>\n",
              "      <td>3899.000000</td>\n",
              "      <td>67.000000</td>\n",
              "      <td>0.702000</td>\n",
              "      <td>0.176000</td>\n",
              "      <td>0.000181</td>\n",
              "      <td>0.999820</td>\n",
              "    </tr>\n",
              "    <tr>\n",
              "      <th>75%</th>\n",
              "      <td>7.731435e+08</td>\n",
              "      <td>52.000000</td>\n",
              "      <td>3.000000</td>\n",
              "      <td>40.000000</td>\n",
              "      <td>5.000000</td>\n",
              "      <td>3.000000</td>\n",
              "      <td>3.000000</td>\n",
              "      <td>11067.500000</td>\n",
              "      <td>1784.000000</td>\n",
              "      <td>9859.000000</td>\n",
              "      <td>0.859000</td>\n",
              "      <td>4741.000000</td>\n",
              "      <td>81.000000</td>\n",
              "      <td>0.818000</td>\n",
              "      <td>0.503000</td>\n",
              "      <td>0.000337</td>\n",
              "      <td>0.999900</td>\n",
              "    </tr>\n",
              "    <tr>\n",
              "      <th>max</th>\n",
              "      <td>8.283431e+08</td>\n",
              "      <td>73.000000</td>\n",
              "      <td>5.000000</td>\n",
              "      <td>56.000000</td>\n",
              "      <td>6.000000</td>\n",
              "      <td>6.000000</td>\n",
              "      <td>6.000000</td>\n",
              "      <td>34516.000000</td>\n",
              "      <td>2517.000000</td>\n",
              "      <td>34516.000000</td>\n",
              "      <td>3.397000</td>\n",
              "      <td>18484.000000</td>\n",
              "      <td>139.000000</td>\n",
              "      <td>3.714000</td>\n",
              "      <td>0.999000</td>\n",
              "      <td>0.999580</td>\n",
              "      <td>0.999990</td>\n",
              "    </tr>\n",
              "  </tbody>\n",
              "</table>\n",
              "</div>"
            ],
            "text/plain": [
              "          CLIENTNUM  ...  Naive_Bayes_Classifier_Attrition_Flag_Card_Category_Contacts_Count_12_mon_Dependent_count_Education_Level_Months_Inactive_12_mon_2\n",
              "count  1.012700e+04  ...                                       10127.000000                                                                                 \n",
              "mean   7.391776e+08  ...                                           0.840003                                                                                 \n",
              "std    3.690378e+07  ...                                           0.365301                                                                                 \n",
              "min    7.080821e+08  ...                                           0.000420                                                                                 \n",
              "25%    7.130368e+08  ...                                           0.999660                                                                                 \n",
              "50%    7.179264e+08  ...                                           0.999820                                                                                 \n",
              "75%    7.731435e+08  ...                                           0.999900                                                                                 \n",
              "max    8.283431e+08  ...                                           0.999990                                                                                 \n",
              "\n",
              "[8 rows x 17 columns]"
            ]
          },
          "metadata": {
            "tags": []
          },
          "execution_count": 6
        }
      ]
    },
    {
      "cell_type": "markdown",
      "metadata": {
        "id": "PI6yjXaQZNon"
      },
      "source": [
        "**NILAI MIN**\n"
      ]
    },
    {
      "cell_type": "code",
      "metadata": {
        "id": "ipNdGDadZVaQ",
        "colab": {
          "base_uri": "https://localhost:8080/"
        },
        "outputId": "b2ebd34e-525e-4e0b-fdd0-6d1e950ce61c"
      },
      "source": [
        "nMin = TUBES.min()\n",
        "\n",
        "print('NILAI TERENDAH DARI MASING-MASING KOLOM')\n",
        "print('')\n",
        "print(nMin)"
      ],
      "execution_count": null,
      "outputs": [
        {
          "output_type": "stream",
          "text": [
            "NILAI TERENDAH DARI MASING-MASING KOLOM\n",
            "\n",
            "CLIENTNUM                                                                                                                                     708082083\n",
            "Attrition_Flag                                                                                                                        Attrited Customer\n",
            "Customer_Age                                                                                                                                         26\n",
            "Gender                                                                                                                                                F\n",
            "Dependent_count                                                                                                                                       0\n",
            "Education_Level                                                                                                                                 College\n",
            "Marital_Status                                                                                                                                 Divorced\n",
            "Income_Category                                                                                                                                 $120K +\n",
            "Card_Category                                                                                                                                      Blue\n",
            "Months_on_book                                                                                                                                       13\n",
            "Total_Relationship_Count                                                                                                                              1\n",
            "Months_Inactive_12_mon                                                                                                                                0\n",
            "Contacts_Count_12_mon                                                                                                                                 0\n",
            "Credit_Limit                                                                                                                                     1438.3\n",
            "Total_Revolving_Bal                                                                                                                                   0\n",
            "Avg_Open_To_Buy                                                                                                                                       3\n",
            "Total_Amt_Chng_Q4_Q1                                                                                                                                  0\n",
            "Total_Trans_Amt                                                                                                                                     510\n",
            "Total_Trans_Ct                                                                                                                                       10\n",
            "Total_Ct_Chng_Q4_Q1                                                                                                                                   0\n",
            "Avg_Utilization_Ratio                                                                                                                                 0\n",
            "Naive_Bayes_Classifier_Attrition_Flag_Card_Category_Contacts_Count_12_mon_Dependent_count_Education_Level_Months_Inactive_12_mon_1             7.66e-06\n",
            "Naive_Bayes_Classifier_Attrition_Flag_Card_Category_Contacts_Count_12_mon_Dependent_count_Education_Level_Months_Inactive_12_mon_2           0.00041998\n",
            "dtype: object\n"
          ],
          "name": "stdout"
        }
      ]
    },
    {
      "cell_type": "markdown",
      "metadata": {
        "id": "nlcthLGibLLI"
      },
      "source": [
        "**NILAI MAX**"
      ]
    },
    {
      "cell_type": "code",
      "metadata": {
        "id": "UqmJF31ubUfd",
        "colab": {
          "base_uri": "https://localhost:8080/"
        },
        "outputId": "36b231f0-f586-4a1a-da03-39988228dc28"
      },
      "source": [
        "nMax = TUBES.max()\n",
        "\n",
        "print('NILAI TERTINGGI DARI MASING-MASING KOLOM')\n",
        "print('')\n",
        "print(nMax)"
      ],
      "execution_count": null,
      "outputs": [
        {
          "output_type": "stream",
          "text": [
            "NILAI TERTINGGI DARI MASING-MASING KOLOM\n",
            "\n",
            "CLIENTNUM                                                                                                                                     828343083\n",
            "Attrition_Flag                                                                                                                        Existing Customer\n",
            "Customer_Age                                                                                                                                         73\n",
            "Gender                                                                                                                                                M\n",
            "Dependent_count                                                                                                                                       5\n",
            "Education_Level                                                                                                                                 Unknown\n",
            "Marital_Status                                                                                                                                  Unknown\n",
            "Income_Category                                                                                                                                 Unknown\n",
            "Card_Category                                                                                                                                    Silver\n",
            "Months_on_book                                                                                                                                       56\n",
            "Total_Relationship_Count                                                                                                                              6\n",
            "Months_Inactive_12_mon                                                                                                                                6\n",
            "Contacts_Count_12_mon                                                                                                                                 6\n",
            "Credit_Limit                                                                                                                                      34516\n",
            "Total_Revolving_Bal                                                                                                                                2517\n",
            "Avg_Open_To_Buy                                                                                                                                   34516\n",
            "Total_Amt_Chng_Q4_Q1                                                                                                                              3.397\n",
            "Total_Trans_Amt                                                                                                                                   18484\n",
            "Total_Trans_Ct                                                                                                                                      139\n",
            "Total_Ct_Chng_Q4_Q1                                                                                                                               3.714\n",
            "Avg_Utilization_Ratio                                                                                                                             0.999\n",
            "Naive_Bayes_Classifier_Attrition_Flag_Card_Category_Contacts_Count_12_mon_Dependent_count_Education_Level_Months_Inactive_12_mon_1              0.99958\n",
            "Naive_Bayes_Classifier_Attrition_Flag_Card_Category_Contacts_Count_12_mon_Dependent_count_Education_Level_Months_Inactive_12_mon_2              0.99999\n",
            "dtype: object\n"
          ],
          "name": "stdout"
        }
      ]
    },
    {
      "cell_type": "markdown",
      "metadata": {
        "id": "3TWvqrR5eAcX"
      },
      "source": [
        "**NILAI MEAN**"
      ]
    },
    {
      "cell_type": "code",
      "metadata": {
        "id": "_fciXgL-eEmn",
        "colab": {
          "base_uri": "https://localhost:8080/"
        },
        "outputId": "1cd5402f-92ff-4e14-cf76-e1194da5bd80"
      },
      "source": [
        "nMean = TUBES.mean()\n",
        "\n",
        "print('NILAI RATA-RATA DARI MASING-MASING KOLOM')\n",
        "print('')\n",
        "print(nMean)"
      ],
      "execution_count": null,
      "outputs": [
        {
          "output_type": "stream",
          "text": [
            "NILAI RATA-RATA DARI MASING-MASING KOLOM\n",
            "\n",
            "CLIENTNUM                                                                                                                             7.391776e+08\n",
            "Customer_Age                                                                                                                          4.632596e+01\n",
            "Dependent_count                                                                                                                       2.346203e+00\n",
            "Months_on_book                                                                                                                        3.592841e+01\n",
            "Total_Relationship_Count                                                                                                              3.812580e+00\n",
            "Months_Inactive_12_mon                                                                                                                2.341167e+00\n",
            "Contacts_Count_12_mon                                                                                                                 2.455317e+00\n",
            "Credit_Limit                                                                                                                          8.631954e+03\n",
            "Total_Revolving_Bal                                                                                                                   1.162814e+03\n",
            "Avg_Open_To_Buy                                                                                                                       7.469140e+03\n",
            "Total_Amt_Chng_Q4_Q1                                                                                                                  7.599407e-01\n",
            "Total_Trans_Amt                                                                                                                       4.404086e+03\n",
            "Total_Trans_Ct                                                                                                                        6.485869e+01\n",
            "Total_Ct_Chng_Q4_Q1                                                                                                                   7.122224e-01\n",
            "Avg_Utilization_Ratio                                                                                                                 2.748936e-01\n",
            "Naive_Bayes_Classifier_Attrition_Flag_Card_Category_Contacts_Count_12_mon_Dependent_count_Education_Level_Months_Inactive_12_mon_1    1.599975e-01\n",
            "Naive_Bayes_Classifier_Attrition_Flag_Card_Category_Contacts_Count_12_mon_Dependent_count_Education_Level_Months_Inactive_12_mon_2    8.400026e-01\n",
            "dtype: float64\n"
          ],
          "name": "stdout"
        }
      ]
    },
    {
      "cell_type": "markdown",
      "metadata": {
        "id": "_iXSi1slauQm"
      },
      "source": [
        "**LIHAT SEMUA**"
      ]
    },
    {
      "cell_type": "code",
      "metadata": {
        "id": "1TPGXlVFZu6W",
        "colab": {
          "base_uri": "https://localhost:8080/",
          "height": 317
        },
        "outputId": "a190b46c-9294-4ae6-abe3-19cb49030ecc"
      },
      "source": [
        "TUBES.describe()"
      ],
      "execution_count": null,
      "outputs": [
        {
          "output_type": "execute_result",
          "data": {
            "text/html": [
              "<div>\n",
              "<style scoped>\n",
              "    .dataframe tbody tr th:only-of-type {\n",
              "        vertical-align: middle;\n",
              "    }\n",
              "\n",
              "    .dataframe tbody tr th {\n",
              "        vertical-align: top;\n",
              "    }\n",
              "\n",
              "    .dataframe thead th {\n",
              "        text-align: right;\n",
              "    }\n",
              "</style>\n",
              "<table border=\"1\" class=\"dataframe\">\n",
              "  <thead>\n",
              "    <tr style=\"text-align: right;\">\n",
              "      <th></th>\n",
              "      <th>CLIENTNUM</th>\n",
              "      <th>Customer_Age</th>\n",
              "      <th>Dependent_count</th>\n",
              "      <th>Months_on_book</th>\n",
              "      <th>Total_Relationship_Count</th>\n",
              "      <th>Months_Inactive_12_mon</th>\n",
              "      <th>Contacts_Count_12_mon</th>\n",
              "      <th>Credit_Limit</th>\n",
              "      <th>Total_Revolving_Bal</th>\n",
              "      <th>Avg_Open_To_Buy</th>\n",
              "      <th>Total_Amt_Chng_Q4_Q1</th>\n",
              "      <th>Total_Trans_Amt</th>\n",
              "      <th>Total_Trans_Ct</th>\n",
              "      <th>Total_Ct_Chng_Q4_Q1</th>\n",
              "      <th>Avg_Utilization_Ratio</th>\n",
              "      <th>Naive_Bayes_Classifier_Attrition_Flag_Card_Category_Contacts_Count_12_mon_Dependent_count_Education_Level_Months_Inactive_12_mon_1</th>\n",
              "      <th>Naive_Bayes_Classifier_Attrition_Flag_Card_Category_Contacts_Count_12_mon_Dependent_count_Education_Level_Months_Inactive_12_mon_2</th>\n",
              "    </tr>\n",
              "  </thead>\n",
              "  <tbody>\n",
              "    <tr>\n",
              "      <th>count</th>\n",
              "      <td>1.012700e+04</td>\n",
              "      <td>10127.000000</td>\n",
              "      <td>10127.000000</td>\n",
              "      <td>10127.000000</td>\n",
              "      <td>10127.000000</td>\n",
              "      <td>10127.000000</td>\n",
              "      <td>10127.000000</td>\n",
              "      <td>10127.000000</td>\n",
              "      <td>10127.000000</td>\n",
              "      <td>10127.000000</td>\n",
              "      <td>10127.000000</td>\n",
              "      <td>10127.000000</td>\n",
              "      <td>10127.000000</td>\n",
              "      <td>10127.000000</td>\n",
              "      <td>10127.000000</td>\n",
              "      <td>10127.000000</td>\n",
              "      <td>10127.000000</td>\n",
              "    </tr>\n",
              "    <tr>\n",
              "      <th>mean</th>\n",
              "      <td>7.391776e+08</td>\n",
              "      <td>46.325960</td>\n",
              "      <td>2.346203</td>\n",
              "      <td>35.928409</td>\n",
              "      <td>3.812580</td>\n",
              "      <td>2.341167</td>\n",
              "      <td>2.455317</td>\n",
              "      <td>8631.953698</td>\n",
              "      <td>1162.814061</td>\n",
              "      <td>7469.139637</td>\n",
              "      <td>0.759941</td>\n",
              "      <td>4404.086304</td>\n",
              "      <td>64.858695</td>\n",
              "      <td>0.712222</td>\n",
              "      <td>0.274894</td>\n",
              "      <td>0.159997</td>\n",
              "      <td>0.840003</td>\n",
              "    </tr>\n",
              "    <tr>\n",
              "      <th>std</th>\n",
              "      <td>3.690378e+07</td>\n",
              "      <td>8.016814</td>\n",
              "      <td>1.298908</td>\n",
              "      <td>7.986416</td>\n",
              "      <td>1.554408</td>\n",
              "      <td>1.010622</td>\n",
              "      <td>1.106225</td>\n",
              "      <td>9088.776650</td>\n",
              "      <td>814.987335</td>\n",
              "      <td>9090.685324</td>\n",
              "      <td>0.219207</td>\n",
              "      <td>3397.129254</td>\n",
              "      <td>23.472570</td>\n",
              "      <td>0.238086</td>\n",
              "      <td>0.275691</td>\n",
              "      <td>0.365301</td>\n",
              "      <td>0.365301</td>\n",
              "    </tr>\n",
              "    <tr>\n",
              "      <th>min</th>\n",
              "      <td>7.080821e+08</td>\n",
              "      <td>26.000000</td>\n",
              "      <td>0.000000</td>\n",
              "      <td>13.000000</td>\n",
              "      <td>1.000000</td>\n",
              "      <td>0.000000</td>\n",
              "      <td>0.000000</td>\n",
              "      <td>1438.300000</td>\n",
              "      <td>0.000000</td>\n",
              "      <td>3.000000</td>\n",
              "      <td>0.000000</td>\n",
              "      <td>510.000000</td>\n",
              "      <td>10.000000</td>\n",
              "      <td>0.000000</td>\n",
              "      <td>0.000000</td>\n",
              "      <td>0.000008</td>\n",
              "      <td>0.000420</td>\n",
              "    </tr>\n",
              "    <tr>\n",
              "      <th>25%</th>\n",
              "      <td>7.130368e+08</td>\n",
              "      <td>41.000000</td>\n",
              "      <td>1.000000</td>\n",
              "      <td>31.000000</td>\n",
              "      <td>3.000000</td>\n",
              "      <td>2.000000</td>\n",
              "      <td>2.000000</td>\n",
              "      <td>2555.000000</td>\n",
              "      <td>359.000000</td>\n",
              "      <td>1324.500000</td>\n",
              "      <td>0.631000</td>\n",
              "      <td>2155.500000</td>\n",
              "      <td>45.000000</td>\n",
              "      <td>0.582000</td>\n",
              "      <td>0.023000</td>\n",
              "      <td>0.000099</td>\n",
              "      <td>0.999660</td>\n",
              "    </tr>\n",
              "    <tr>\n",
              "      <th>50%</th>\n",
              "      <td>7.179264e+08</td>\n",
              "      <td>46.000000</td>\n",
              "      <td>2.000000</td>\n",
              "      <td>36.000000</td>\n",
              "      <td>4.000000</td>\n",
              "      <td>2.000000</td>\n",
              "      <td>2.000000</td>\n",
              "      <td>4549.000000</td>\n",
              "      <td>1276.000000</td>\n",
              "      <td>3474.000000</td>\n",
              "      <td>0.736000</td>\n",
              "      <td>3899.000000</td>\n",
              "      <td>67.000000</td>\n",
              "      <td>0.702000</td>\n",
              "      <td>0.176000</td>\n",
              "      <td>0.000181</td>\n",
              "      <td>0.999820</td>\n",
              "    </tr>\n",
              "    <tr>\n",
              "      <th>75%</th>\n",
              "      <td>7.731435e+08</td>\n",
              "      <td>52.000000</td>\n",
              "      <td>3.000000</td>\n",
              "      <td>40.000000</td>\n",
              "      <td>5.000000</td>\n",
              "      <td>3.000000</td>\n",
              "      <td>3.000000</td>\n",
              "      <td>11067.500000</td>\n",
              "      <td>1784.000000</td>\n",
              "      <td>9859.000000</td>\n",
              "      <td>0.859000</td>\n",
              "      <td>4741.000000</td>\n",
              "      <td>81.000000</td>\n",
              "      <td>0.818000</td>\n",
              "      <td>0.503000</td>\n",
              "      <td>0.000337</td>\n",
              "      <td>0.999900</td>\n",
              "    </tr>\n",
              "    <tr>\n",
              "      <th>max</th>\n",
              "      <td>8.283431e+08</td>\n",
              "      <td>73.000000</td>\n",
              "      <td>5.000000</td>\n",
              "      <td>56.000000</td>\n",
              "      <td>6.000000</td>\n",
              "      <td>6.000000</td>\n",
              "      <td>6.000000</td>\n",
              "      <td>34516.000000</td>\n",
              "      <td>2517.000000</td>\n",
              "      <td>34516.000000</td>\n",
              "      <td>3.397000</td>\n",
              "      <td>18484.000000</td>\n",
              "      <td>139.000000</td>\n",
              "      <td>3.714000</td>\n",
              "      <td>0.999000</td>\n",
              "      <td>0.999580</td>\n",
              "      <td>0.999990</td>\n",
              "    </tr>\n",
              "  </tbody>\n",
              "</table>\n",
              "</div>"
            ],
            "text/plain": [
              "          CLIENTNUM  ...  Naive_Bayes_Classifier_Attrition_Flag_Card_Category_Contacts_Count_12_mon_Dependent_count_Education_Level_Months_Inactive_12_mon_2\n",
              "count  1.012700e+04  ...                                       10127.000000                                                                                 \n",
              "mean   7.391776e+08  ...                                           0.840003                                                                                 \n",
              "std    3.690378e+07  ...                                           0.365301                                                                                 \n",
              "min    7.080821e+08  ...                                           0.000420                                                                                 \n",
              "25%    7.130368e+08  ...                                           0.999660                                                                                 \n",
              "50%    7.179264e+08  ...                                           0.999820                                                                                 \n",
              "75%    7.731435e+08  ...                                           0.999900                                                                                 \n",
              "max    8.283431e+08  ...                                           0.999990                                                                                 \n",
              "\n",
              "[8 rows x 17 columns]"
            ]
          },
          "metadata": {
            "tags": []
          },
          "execution_count": 10
        }
      ]
    },
    {
      "cell_type": "markdown",
      "metadata": {
        "id": "Rx-c03k6emnm"
      },
      "source": [
        "**NILAI MEDIAN**"
      ]
    },
    {
      "cell_type": "code",
      "metadata": {
        "id": "QWb-fUz3evKj",
        "colab": {
          "base_uri": "https://localhost:8080/"
        },
        "outputId": "8fb91fb1-db7d-4549-b19d-c8041dc41486"
      },
      "source": [
        "nMedian = TUBES.median()\n",
        "\n",
        "print('NILAI TENGAH DARI MASING-MASING KOLOM')\n",
        "print('')\n",
        "print(nMedian)"
      ],
      "execution_count": null,
      "outputs": [
        {
          "output_type": "stream",
          "text": [
            "NILAI TENGAH DARI MASING-MASING KOLOM\n",
            "\n",
            "CLIENTNUM                                                                                                                             7.179264e+08\n",
            "Customer_Age                                                                                                                          4.600000e+01\n",
            "Dependent_count                                                                                                                       2.000000e+00\n",
            "Months_on_book                                                                                                                        3.600000e+01\n",
            "Total_Relationship_Count                                                                                                              4.000000e+00\n",
            "Months_Inactive_12_mon                                                                                                                2.000000e+00\n",
            "Contacts_Count_12_mon                                                                                                                 2.000000e+00\n",
            "Credit_Limit                                                                                                                          4.549000e+03\n",
            "Total_Revolving_Bal                                                                                                                   1.276000e+03\n",
            "Avg_Open_To_Buy                                                                                                                       3.474000e+03\n",
            "Total_Amt_Chng_Q4_Q1                                                                                                                  7.360000e-01\n",
            "Total_Trans_Amt                                                                                                                       3.899000e+03\n",
            "Total_Trans_Ct                                                                                                                        6.700000e+01\n",
            "Total_Ct_Chng_Q4_Q1                                                                                                                   7.020000e-01\n",
            "Avg_Utilization_Ratio                                                                                                                 1.760000e-01\n",
            "Naive_Bayes_Classifier_Attrition_Flag_Card_Category_Contacts_Count_12_mon_Dependent_count_Education_Level_Months_Inactive_12_mon_1    1.814600e-04\n",
            "Naive_Bayes_Classifier_Attrition_Flag_Card_Category_Contacts_Count_12_mon_Dependent_count_Education_Level_Months_Inactive_12_mon_2    9.998200e-01\n",
            "dtype: float64\n"
          ],
          "name": "stdout"
        }
      ]
    },
    {
      "cell_type": "markdown",
      "metadata": {
        "id": "o8WxDqieiiPZ"
      },
      "source": [
        "**SIMPANGAN BAKU**"
      ]
    },
    {
      "cell_type": "code",
      "metadata": {
        "id": "wPX9RlwRjOng",
        "colab": {
          "base_uri": "https://localhost:8080/"
        },
        "outputId": "d651c44b-5f02-44e2-e412-d8b23700f86e"
      },
      "source": [
        "stDev = TUBES.std()\n",
        "\n",
        "print('SIMPANGAN BAKU DARI MASING-MASING KOLOM')\n",
        "print('')\n",
        "print(stDev)"
      ],
      "execution_count": null,
      "outputs": [
        {
          "output_type": "stream",
          "text": [
            "SIMPANGAN BAKU DARI MASING-MASING KOLOM\n",
            "\n",
            "CLIENTNUM                                                                                                                             3.690378e+07\n",
            "Customer_Age                                                                                                                          8.016814e+00\n",
            "Dependent_count                                                                                                                       1.298908e+00\n",
            "Months_on_book                                                                                                                        7.986416e+00\n",
            "Total_Relationship_Count                                                                                                              1.554408e+00\n",
            "Months_Inactive_12_mon                                                                                                                1.010622e+00\n",
            "Contacts_Count_12_mon                                                                                                                 1.106225e+00\n",
            "Credit_Limit                                                                                                                          9.088777e+03\n",
            "Total_Revolving_Bal                                                                                                                   8.149873e+02\n",
            "Avg_Open_To_Buy                                                                                                                       9.090685e+03\n",
            "Total_Amt_Chng_Q4_Q1                                                                                                                  2.192068e-01\n",
            "Total_Trans_Amt                                                                                                                       3.397129e+03\n",
            "Total_Trans_Ct                                                                                                                        2.347257e+01\n",
            "Total_Ct_Chng_Q4_Q1                                                                                                                   2.380861e-01\n",
            "Avg_Utilization_Ratio                                                                                                                 2.756915e-01\n",
            "Naive_Bayes_Classifier_Attrition_Flag_Card_Category_Contacts_Count_12_mon_Dependent_count_Education_Level_Months_Inactive_12_mon_1    3.653010e-01\n",
            "Naive_Bayes_Classifier_Attrition_Flag_Card_Category_Contacts_Count_12_mon_Dependent_count_Education_Level_Months_Inactive_12_mon_2    3.653010e-01\n",
            "dtype: float64\n"
          ],
          "name": "stdout"
        }
      ]
    },
    {
      "cell_type": "markdown",
      "metadata": {
        "id": "GIgP1byxj3Dr"
      },
      "source": [
        "**NILAI VARIANSI**"
      ]
    },
    {
      "cell_type": "code",
      "metadata": {
        "id": "2OnS4Pc_j6xU",
        "colab": {
          "base_uri": "https://localhost:8080/"
        },
        "outputId": "814876a4-88b6-4f0b-d315-ac03eba162d8"
      },
      "source": [
        "nVar = TUBES.var()\n",
        "\n",
        "print('NILAI VARIANSI DARI MASING-MASING KOLOM')\n",
        "print('')\n",
        "print(nVar)"
      ],
      "execution_count": null,
      "outputs": [
        {
          "output_type": "stream",
          "text": [
            "NILAI VARIANSI DARI MASING-MASING KOLOM\n",
            "\n",
            "CLIENTNUM                                                                                                                             1.361889e+15\n",
            "Customer_Age                                                                                                                          6.426931e+01\n",
            "Dependent_count                                                                                                                       1.687163e+00\n",
            "Months_on_book                                                                                                                        6.378285e+01\n",
            "Total_Relationship_Count                                                                                                              2.416184e+00\n",
            "Months_Inactive_12_mon                                                                                                                1.021358e+00\n",
            "Contacts_Count_12_mon                                                                                                                 1.223734e+00\n",
            "Credit_Limit                                                                                                                          8.260586e+07\n",
            "Total_Revolving_Bal                                                                                                                   6.642044e+05\n",
            "Avg_Open_To_Buy                                                                                                                       8.264056e+07\n",
            "Total_Amt_Chng_Q4_Q1                                                                                                                  4.805161e-02\n",
            "Total_Trans_Amt                                                                                                                       1.154049e+07\n",
            "Total_Trans_Ct                                                                                                                        5.509616e+02\n",
            "Total_Ct_Chng_Q4_Q1                                                                                                                   5.668499e-02\n",
            "Avg_Utilization_Ratio                                                                                                                 7.600579e-02\n",
            "Naive_Bayes_Classifier_Attrition_Flag_Card_Category_Contacts_Count_12_mon_Dependent_count_Education_Level_Months_Inactive_12_mon_1    1.334448e-01\n",
            "Naive_Bayes_Classifier_Attrition_Flag_Card_Category_Contacts_Count_12_mon_Dependent_count_Education_Level_Months_Inactive_12_mon_2    1.334448e-01\n",
            "dtype: float64\n"
          ],
          "name": "stdout"
        }
      ]
    },
    {
      "cell_type": "markdown",
      "metadata": {
        "id": "GnJbAu_Rlmkm"
      },
      "source": [
        "**1. HISTOGRAM**"
      ]
    },
    {
      "cell_type": "code",
      "metadata": {
        "id": "v0HsnOv2lqOX",
        "colab": {
          "base_uri": "https://localhost:8080/",
          "height": 280
        },
        "outputId": "77bcc741-56bb-4a37-d534-c9871d7951b1"
      },
      "source": [
        "sns.histplot( x = 'Customer_Age',\n",
        "             data = TUBES,\n",
        "             hue = 'Gender',\n",
        "             multiple = 'stack', \n",
        "             bins = 10\n",
        "             );"
      ],
      "execution_count": null,
      "outputs": [
        {
          "output_type": "display_data",
          "data": {
            "image/png": "[encoded data removed]",
            "text/plain": [
              "<Figure size 432x288 with 1 Axes>"
            ]
          },
          "metadata": {
            "tags": [],
            "needs_background": "light"
          }
        }
      ]
    },
    {
      "cell_type": "markdown",
      "metadata": {
        "id": "Su_o6ipU0m8S"
      },
      "source": [
        "**2. HEATMAP**"
      ]
    },
    {
      "cell_type": "code",
      "metadata": {
        "id": "z5xs_X2lx3nY",
        "colab": {
          "base_uri": "https://localhost:8080/",
          "height": 283
        },
        "outputId": "896e0f3e-fe9e-4482-c127-059dda6e98e4"
      },
      "source": [
        "heatmap_diagram = (\n",
        "      TUBES.groupby('Dependent_count')\n",
        "      .Gender\n",
        "      .value_counts()\n",
        "      .unstack()\n",
        "      .fillna(0)\n",
        ")\n",
        "sns.heatmap(heatmap_diagram);"
      ],
      "execution_count": null,
      "outputs": [
        {
          "output_type": "display_data",
          "data": {
            "image/png": "[encoded data removed]",
            "text/plain": [
              "<Figure size 432x288 with 2 Axes>"
            ]
          },
          "metadata": {
            "tags": [],
            "needs_background": "light"
          }
        }
      ]
    },
    {
      "cell_type": "markdown",
      "metadata": {
        "id": "IUS2e-0moYmb"
      },
      "source": [
        "**3. BOX PLOT**"
      ]
    },
    {
      "cell_type": "code",
      "metadata": {
        "id": "7ZvXnE1qOcQN",
        "colab": {
          "base_uri": "https://localhost:8080/",
          "height": 302
        },
        "outputId": "52437515-d45b-45f2-ac40-3e1ee8a272f8"
      },
      "source": [
        "sns.set(style = 'ticks')\n",
        "sns.boxplot(x = 'Attrition_Flag', \n",
        "            y = 'Customer_Age', \n",
        "            hue = 'Attrition_Flag', \n",
        "            data = TUBES)"
      ],
      "execution_count": null,
      "outputs": [
        {
          "output_type": "execute_result",
          "data": {
            "text/plain": [
              "<matplotlib.axes._subplots.AxesSubplot at 0x7f50abb8ee48>"
            ]
          },
          "metadata": {
            "tags": []
          },
          "execution_count": 6
        },
        {
          "output_type": "display_data",
          "data": {
            "image/png": "[encoded data removed]",
            "text/plain": [
              "<Figure size 432x288 with 1 Axes>"
            ]
          },
          "metadata": {
            "tags": []
          }
        }
      ]
    },
    {
      "cell_type": "markdown",
      "metadata": {
        "id": "_IIGqtjSG_Wp"
      },
      "source": []
    },
    {
      "cell_type": "markdown",
      "metadata": {
        "id": "70mTPEjQp9SA"
      },
      "source": [
        "**4. KORELASI**"
      ]
    },
    {
      "cell_type": "code",
      "metadata": {
        "id": "6rPSOVlIqCTY",
        "colab": {
          "base_uri": "https://localhost:8080/",
          "height": 596
        },
        "outputId": "f4ea1b0a-42c4-4767-dc5b-8149ed334dd8"
      },
      "source": [
        "TUBES.corr()"
      ],
      "execution_count": null,
      "outputs": [
        {
          "output_type": "execute_result",
          "data": {
            "text/html": [
              "<div>\n",
              "<style scoped>\n",
              "    .dataframe tbody tr th:only-of-type {\n",
              "        vertical-align: middle;\n",
              "    }\n",
              "\n",
              "    .dataframe tbody tr th {\n",
              "        vertical-align: top;\n",
              "    }\n",
              "\n",
              "    .dataframe thead th {\n",
              "        text-align: right;\n",
              "    }\n",
              "</style>\n",
              "<table border=\"1\" class=\"dataframe\">\n",
              "  <thead>\n",
              "    <tr style=\"text-align: right;\">\n",
              "      <th></th>\n",
              "      <th>CLIENTNUAM</th>\n",
              "      <th>Customer_Age</th>\n",
              "      <th>Dependent_count</th>\n",
              "      <th>Months_on_book</th>\n",
              "      <th>Total_Relationship_Count</th>\n",
              "      <th>Months_Inactive_12_mon</th>\n",
              "      <th>Contacts_Count_12_mon</th>\n",
              "      <th>Credit_Limit</th>\n",
              "      <th>Total_Revolving_Bal</th>\n",
              "      <th>Avg_Open_To_Buy</th>\n",
              "      <th>Total_Amt_Chng_Q4_Q1</th>\n",
              "      <th>Total_Trans_Amt</th>\n",
              "      <th>Total_Trans_Ct</th>\n",
              "      <th>Total_Ct_Chng_Q4_Q1</th>\n",
              "      <th>Avg_Utilization_Ratio</th>\n",
              "      <th>Naive_Bayes_Classifier_Attrition_Flag_Card_Category_Contacts_Count_12_mon_Dependent_count_Education_Level_Months_Inactive_12_mon_1</th>\n",
              "      <th>Naive_Bayes_Classifier_Attrition_Flag_Card_Category_Contacts_Count_12_mon_Dependent_count_Education_Level_Months_Inactive_12_mon_2</th>\n",
              "    </tr>\n",
              "  </thead>\n",
              "  <tbody>\n",
              "    <tr>\n",
              "      <th>CLIENTNUAM</th>\n",
              "      <td>1.000000</td>\n",
              "      <td>0.017463</td>\n",
              "      <td>-0.015284</td>\n",
              "      <td>0.196849</td>\n",
              "      <td>0.050524</td>\n",
              "      <td>-0.073474</td>\n",
              "      <td>0.007288</td>\n",
              "      <td>0.014843</td>\n",
              "      <td>0.037178</td>\n",
              "      <td>0.011991</td>\n",
              "      <td>-0.015204</td>\n",
              "      <td>-0.000960</td>\n",
              "      <td>0.008267</td>\n",
              "      <td>-0.013644</td>\n",
              "      <td>0.034849</td>\n",
              "      <td>-0.088954</td>\n",
              "      <td>0.088954</td>\n",
              "    </tr>\n",
              "    <tr>\n",
              "      <th>Customer_Age</th>\n",
              "      <td>0.017463</td>\n",
              "      <td>1.000000</td>\n",
              "      <td>-0.466402</td>\n",
              "      <td>0.752849</td>\n",
              "      <td>-0.079905</td>\n",
              "      <td>0.072619</td>\n",
              "      <td>0.075812</td>\n",
              "      <td>-0.201709</td>\n",
              "      <td>-0.042822</td>\n",
              "      <td>-0.198466</td>\n",
              "      <td>0.116883</td>\n",
              "      <td>0.069143</td>\n",
              "      <td>0.019284</td>\n",
              "      <td>-0.026845</td>\n",
              "      <td>0.143799</td>\n",
              "      <td>0.126039</td>\n",
              "      <td>-0.126039</td>\n",
              "    </tr>\n",
              "    <tr>\n",
              "      <th>Dependent_count</th>\n",
              "      <td>-0.015284</td>\n",
              "      <td>-0.466402</td>\n",
              "      <td>1.000000</td>\n",
              "      <td>-0.348550</td>\n",
              "      <td>0.075165</td>\n",
              "      <td>-0.015737</td>\n",
              "      <td>-0.036817</td>\n",
              "      <td>0.165520</td>\n",
              "      <td>0.070430</td>\n",
              "      <td>0.160148</td>\n",
              "      <td>-0.100993</td>\n",
              "      <td>-0.063662</td>\n",
              "      <td>-0.005334</td>\n",
              "      <td>0.042725</td>\n",
              "      <td>-0.126073</td>\n",
              "      <td>-0.048863</td>\n",
              "      <td>0.048863</td>\n",
              "    </tr>\n",
              "    <tr>\n",
              "      <th>Months_on_book</th>\n",
              "      <td>0.196849</td>\n",
              "      <td>0.752849</td>\n",
              "      <td>-0.348550</td>\n",
              "      <td>1.000000</td>\n",
              "      <td>-0.035786</td>\n",
              "      <td>0.038645</td>\n",
              "      <td>0.059325</td>\n",
              "      <td>-0.149154</td>\n",
              "      <td>-0.031901</td>\n",
              "      <td>-0.146738</td>\n",
              "      <td>0.079499</td>\n",
              "      <td>0.090313</td>\n",
              "      <td>0.023808</td>\n",
              "      <td>-0.030476</td>\n",
              "      <td>0.076860</td>\n",
              "      <td>0.072532</td>\n",
              "      <td>-0.072532</td>\n",
              "    </tr>\n",
              "    <tr>\n",
              "      <th>Total_Relationship_Count</th>\n",
              "      <td>0.050524</td>\n",
              "      <td>-0.079905</td>\n",
              "      <td>0.075165</td>\n",
              "      <td>-0.035786</td>\n",
              "      <td>1.000000</td>\n",
              "      <td>-0.092027</td>\n",
              "      <td>-0.029555</td>\n",
              "      <td>0.043274</td>\n",
              "      <td>0.142037</td>\n",
              "      <td>0.032375</td>\n",
              "      <td>-0.037153</td>\n",
              "      <td>0.224177</td>\n",
              "      <td>0.164187</td>\n",
              "      <td>0.029177</td>\n",
              "      <td>0.044866</td>\n",
              "      <td>-0.382049</td>\n",
              "      <td>0.382049</td>\n",
              "    </tr>\n",
              "    <tr>\n",
              "      <th>Months_Inactive_12_mon</th>\n",
              "      <td>-0.073474</td>\n",
              "      <td>0.072619</td>\n",
              "      <td>-0.015737</td>\n",
              "      <td>0.038645</td>\n",
              "      <td>-0.092027</td>\n",
              "      <td>1.000000</td>\n",
              "      <td>0.099013</td>\n",
              "      <td>-0.014228</td>\n",
              "      <td>0.055024</td>\n",
              "      <td>-0.018458</td>\n",
              "      <td>-0.044637</td>\n",
              "      <td>-0.139290</td>\n",
              "      <td>-0.114409</td>\n",
              "      <td>-0.007772</td>\n",
              "      <td>0.072505</td>\n",
              "      <td>0.213132</td>\n",
              "      <td>-0.213132</td>\n",
              "    </tr>\n",
              "    <tr>\n",
              "      <th>Contacts_Count_12_mon</th>\n",
              "      <td>0.007288</td>\n",
              "      <td>0.075812</td>\n",
              "      <td>-0.036817</td>\n",
              "      <td>0.059325</td>\n",
              "      <td>-0.029555</td>\n",
              "      <td>0.099013</td>\n",
              "      <td>1.000000</td>\n",
              "      <td>0.030451</td>\n",
              "      <td>-0.005050</td>\n",
              "      <td>0.030846</td>\n",
              "      <td>-0.039751</td>\n",
              "      <td>-0.165660</td>\n",
              "      <td>-0.155691</td>\n",
              "      <td>-0.011883</td>\n",
              "      <td>-0.003000</td>\n",
              "      <td>0.184188</td>\n",
              "      <td>-0.184189</td>\n",
              "    </tr>\n",
              "    <tr>\n",
              "      <th>Credit_Limit</th>\n",
              "      <td>0.014843</td>\n",
              "      <td>-0.201709</td>\n",
              "      <td>0.165520</td>\n",
              "      <td>-0.149154</td>\n",
              "      <td>0.043274</td>\n",
              "      <td>-0.014228</td>\n",
              "      <td>0.030451</td>\n",
              "      <td>1.000000</td>\n",
              "      <td>0.041363</td>\n",
              "      <td>0.997051</td>\n",
              "      <td>-0.038179</td>\n",
              "      <td>0.006048</td>\n",
              "      <td>0.013070</td>\n",
              "      <td>0.031967</td>\n",
              "      <td>-0.582112</td>\n",
              "      <td>-0.125444</td>\n",
              "      <td>0.125445</td>\n",
              "    </tr>\n",
              "    <tr>\n",
              "      <th>Total_Revolving_Bal</th>\n",
              "      <td>0.037178</td>\n",
              "      <td>-0.042822</td>\n",
              "      <td>0.070430</td>\n",
              "      <td>-0.031901</td>\n",
              "      <td>0.142037</td>\n",
              "      <td>0.055024</td>\n",
              "      <td>-0.005050</td>\n",
              "      <td>0.041363</td>\n",
              "      <td>1.000000</td>\n",
              "      <td>-0.035432</td>\n",
              "      <td>0.072442</td>\n",
              "      <td>0.227092</td>\n",
              "      <td>0.155955</td>\n",
              "      <td>0.113878</td>\n",
              "      <td>0.507221</td>\n",
              "      <td>-0.280542</td>\n",
              "      <td>0.280542</td>\n",
              "    </tr>\n",
              "    <tr>\n",
              "      <th>Avg_Open_To_Buy</th>\n",
              "      <td>0.011991</td>\n",
              "      <td>-0.198466</td>\n",
              "      <td>0.160148</td>\n",
              "      <td>-0.146738</td>\n",
              "      <td>0.032375</td>\n",
              "      <td>-0.018458</td>\n",
              "      <td>0.030846</td>\n",
              "      <td>0.997051</td>\n",
              "      <td>-0.035432</td>\n",
              "      <td>1.000000</td>\n",
              "      <td>-0.043751</td>\n",
              "      <td>-0.011392</td>\n",
              "      <td>0.001095</td>\n",
              "      <td>0.023228</td>\n",
              "      <td>-0.621201</td>\n",
              "      <td>-0.103926</td>\n",
              "      <td>0.103926</td>\n",
              "    </tr>\n",
              "    <tr>\n",
              "      <th>Total_Amt_Chng_Q4_Q1</th>\n",
              "      <td>-0.015204</td>\n",
              "      <td>0.116883</td>\n",
              "      <td>-0.100993</td>\n",
              "      <td>0.079499</td>\n",
              "      <td>-0.037153</td>\n",
              "      <td>-0.044637</td>\n",
              "      <td>-0.039751</td>\n",
              "      <td>-0.038179</td>\n",
              "      <td>0.072442</td>\n",
              "      <td>-0.043751</td>\n",
              "      <td>1.000000</td>\n",
              "      <td>0.300820</td>\n",
              "      <td>-0.026707</td>\n",
              "      <td>0.438002</td>\n",
              "      <td>0.070063</td>\n",
              "      <td>-0.078296</td>\n",
              "      <td>0.078296</td>\n",
              "    </tr>\n",
              "    <tr>\n",
              "      <th>Total_Trans_Amt</th>\n",
              "      <td>-0.000960</td>\n",
              "      <td>0.069143</td>\n",
              "      <td>-0.063662</td>\n",
              "      <td>0.090313</td>\n",
              "      <td>0.224177</td>\n",
              "      <td>-0.139290</td>\n",
              "      <td>-0.165660</td>\n",
              "      <td>0.006048</td>\n",
              "      <td>0.227092</td>\n",
              "      <td>-0.011392</td>\n",
              "      <td>0.300820</td>\n",
              "      <td>1.000000</td>\n",
              "      <td>0.641819</td>\n",
              "      <td>0.161082</td>\n",
              "      <td>0.126685</td>\n",
              "      <td>-0.545028</td>\n",
              "      <td>0.545028</td>\n",
              "    </tr>\n",
              "    <tr>\n",
              "      <th>Total_Trans_Ct</th>\n",
              "      <td>0.008267</td>\n",
              "      <td>0.019284</td>\n",
              "      <td>-0.005334</td>\n",
              "      <td>0.023808</td>\n",
              "      <td>0.164187</td>\n",
              "      <td>-0.114409</td>\n",
              "      <td>-0.155691</td>\n",
              "      <td>0.013070</td>\n",
              "      <td>0.155955</td>\n",
              "      <td>0.001095</td>\n",
              "      <td>-0.026707</td>\n",
              "      <td>0.641819</td>\n",
              "      <td>1.000000</td>\n",
              "      <td>-0.117256</td>\n",
              "      <td>0.084766</td>\n",
              "      <td>-0.369513</td>\n",
              "      <td>0.369513</td>\n",
              "    </tr>\n",
              "    <tr>\n",
              "      <th>Total_Ct_Chng_Q4_Q1</th>\n",
              "      <td>-0.013644</td>\n",
              "      <td>-0.026845</td>\n",
              "      <td>0.042725</td>\n",
              "      <td>-0.030476</td>\n",
              "      <td>0.029177</td>\n",
              "      <td>-0.007772</td>\n",
              "      <td>-0.011883</td>\n",
              "      <td>0.031967</td>\n",
              "      <td>0.113878</td>\n",
              "      <td>0.023228</td>\n",
              "      <td>0.438002</td>\n",
              "      <td>0.161082</td>\n",
              "      <td>-0.117256</td>\n",
              "      <td>1.000000</td>\n",
              "      <td>0.044692</td>\n",
              "      <td>-0.228562</td>\n",
              "      <td>0.228562</td>\n",
              "    </tr>\n",
              "    <tr>\n",
              "      <th>Avg_Utilization_Ratio</th>\n",
              "      <td>0.034849</td>\n",
              "      <td>0.143799</td>\n",
              "      <td>-0.126073</td>\n",
              "      <td>0.076860</td>\n",
              "      <td>0.044866</td>\n",
              "      <td>0.072505</td>\n",
              "      <td>-0.003000</td>\n",
              "      <td>-0.582112</td>\n",
              "      <td>0.507221</td>\n",
              "      <td>-0.621201</td>\n",
              "      <td>0.070063</td>\n",
              "      <td>0.126685</td>\n",
              "      <td>0.084766</td>\n",
              "      <td>0.044692</td>\n",
              "      <td>1.000000</td>\n",
              "      <td>-0.067786</td>\n",
              "      <td>0.067786</td>\n",
              "    </tr>\n",
              "    <tr>\n",
              "      <th>Naive_Bayes_Classifier_Attrition_Flag_Card_Category_Contacts_Count_12_mon_Dependent_count_Education_Level_Months_Inactive_12_mon_1</th>\n",
              "      <td>-0.088954</td>\n",
              "      <td>0.126039</td>\n",
              "      <td>-0.048863</td>\n",
              "      <td>0.072532</td>\n",
              "      <td>-0.382049</td>\n",
              "      <td>0.213132</td>\n",
              "      <td>0.184188</td>\n",
              "      <td>-0.125444</td>\n",
              "      <td>-0.280542</td>\n",
              "      <td>-0.103926</td>\n",
              "      <td>-0.078296</td>\n",
              "      <td>-0.545028</td>\n",
              "      <td>-0.369513</td>\n",
              "      <td>-0.228562</td>\n",
              "      <td>-0.067786</td>\n",
              "      <td>1.000000</td>\n",
              "      <td>-1.000000</td>\n",
              "    </tr>\n",
              "    <tr>\n",
              "      <th>Naive_Bayes_Classifier_Attrition_Flag_Card_Category_Contacts_Count_12_mon_Dependent_count_Education_Level_Months_Inactive_12_mon_2</th>\n",
              "      <td>0.088954</td>\n",
              "      <td>-0.126039</td>\n",
              "      <td>0.048863</td>\n",
              "      <td>-0.072532</td>\n",
              "      <td>0.382049</td>\n",
              "      <td>-0.213132</td>\n",
              "      <td>-0.184189</td>\n",
              "      <td>0.125445</td>\n",
              "      <td>0.280542</td>\n",
              "      <td>0.103926</td>\n",
              "      <td>0.078296</td>\n",
              "      <td>0.545028</td>\n",
              "      <td>0.369513</td>\n",
              "      <td>0.228562</td>\n",
              "      <td>0.067786</td>\n",
              "      <td>-1.000000</td>\n",
              "      <td>1.000000</td>\n",
              "    </tr>\n",
              "  </tbody>\n",
              "</table>\n",
              "</div>"
            ],
            "text/plain": [
              "                                                    CLIENTNUAM  ...  Naive_Bayes_Classifier_Attrition_Flag_Card_Category_Contacts_Count_12_mon_Dependent_count_Education_Level_Months_Inactive_12_mon_2\n",
              "CLIENTNUAM                                            1.000000  ...                                           0.088954                                                                                 \n",
              "Customer_Age                                          0.017463  ...                                          -0.126039                                                                                 \n",
              "Dependent_count                                      -0.015284  ...                                           0.048863                                                                                 \n",
              "Months_on_book                                        0.196849  ...                                          -0.072532                                                                                 \n",
              "Total_Relationship_Count                              0.050524  ...                                           0.382049                                                                                 \n",
              "Months_Inactive_12_mon                               -0.073474  ...                                          -0.213132                                                                                 \n",
              "Contacts_Count_12_mon                                 0.007288  ...                                          -0.184189                                                                                 \n",
              "Credit_Limit                                          0.014843  ...                                           0.125445                                                                                 \n",
              "Total_Revolving_Bal                                   0.037178  ...                                           0.280542                                                                                 \n",
              "Avg_Open_To_Buy                                       0.011991  ...                                           0.103926                                                                                 \n",
              "Total_Amt_Chng_Q4_Q1                                 -0.015204  ...                                           0.078296                                                                                 \n",
              "Total_Trans_Amt                                      -0.000960  ...                                           0.545028                                                                                 \n",
              "Total_Trans_Ct                                        0.008267  ...                                           0.369513                                                                                 \n",
              "Total_Ct_Chng_Q4_Q1                                  -0.013644  ...                                           0.228562                                                                                 \n",
              "Avg_Utilization_Ratio                                 0.034849  ...                                           0.067786                                                                                 \n",
              "Naive_Bayes_Classifier_Attrition_Flag_Card_Cate...   -0.088954  ...                                          -1.000000                                                                                 \n",
              "Naive_Bayes_Classifier_Attrition_Flag_Card_Cate...    0.088954  ...                                           1.000000                                                                                 \n",
              "\n",
              "[17 rows x 17 columns]"
            ]
          },
          "metadata": {
            "tags": []
          },
          "execution_count": 7
        }
      ]
    },
    {
      "cell_type": "markdown",
      "metadata": {
        "id": "Oy3jffGkpXk0"
      },
      "source": [
        "**5. SCATTER PLOT**"
      ]
    },
    {
      "cell_type": "code",
      "metadata": {
        "id": "bzzWaax1pdK5",
        "colab": {
          "base_uri": "https://localhost:8080/",
          "height": 302
        },
        "outputId": "cd24f4de-8353-4ac5-fefe-98e5a5e84b34"
      },
      "source": [
        "sns.scatterplot(x = 'Customer_Age',\n",
        "                y = 'Months_on_book', \n",
        "                data = TUBES, \n",
        "                color = 'cyan')"
      ],
      "execution_count": null,
      "outputs": [
        {
          "output_type": "execute_result",
          "data": {
            "text/plain": [
              "<matplotlib.axes._subplots.AxesSubplot at 0x7f50ae8876d8>"
            ]
          },
          "metadata": {
            "tags": []
          },
          "execution_count": 12
        },
        {
          "output_type": "display_data",
          "data": {
            "image/png": "[encoded data removed]",
            "text/plain": [
              "<Figure size 432x288 with 1 Axes>"
            ]
          },
          "metadata": {
            "tags": []
          }
        }
      ]
    }
  ]
}